{
 "cells": [
  {
   "cell_type": "code",
   "execution_count": 56,
   "metadata": {},
   "outputs": [],
   "source": [
    "import numpy as np\n",
    "import cv2\n",
    "from open3d import *\n",
    "from matplotlib import pyplot as plt\n",
    "import random"
   ]
  },
  {
   "cell_type": "code",
   "execution_count": 157,
   "metadata": {},
   "outputs": [],
   "source": [
    "work_dir = '/home/shubham/jobs/brain/'\n",
    "suffix = '2'"
   ]
  },
  {
   "cell_type": "code",
   "execution_count": 158,
   "metadata": {},
   "outputs": [
    {
     "data": {
      "text/plain": [
       "<matplotlib.image.AxesImage at 0x7f6b8420dc50>"
      ]
     },
     "execution_count": 158,
     "metadata": {},
     "output_type": "execute_result"
    },
    {
     "data": {
      "image/png": "[encoded data removed]",
      "text/plain": [
       "<Figure size 432x288 with 1 Axes>"
      ]
     },
     "metadata": {
      "needs_background": "light"
     },
     "output_type": "display_data"
    }
   ],
   "source": [
    "\n",
    "dmap = np.loadtxt('human_corridor_'  +suffix + '.txt')\n",
    "plt.imshow(dmap)"
   ]
  },
  {
   "cell_type": "code",
   "execution_count": 159,
   "metadata": {},
   "outputs": [
    {
     "name": "stdout",
     "output_type": "stream",
     "text": [
      "('min max : ', 1.218000054359436, 32.766998291015625)\n",
      "(132, 176)\n"
     ]
    }
   ],
   "source": [
    "print(\"min max : \", np.min(dmap),np.max(dmap))\n",
    "print(dmap.shape)\n",
    "dmap = dmap.astype(np.float32)"
   ]
  },
  {
   "cell_type": "code",
   "execution_count": 160,
   "metadata": {},
   "outputs": [],
   "source": [
    "r = 1.3\n",
    "dr = 3\n",
    "\n",
    "dmap[(dmap <= r) | (dmap >= r+dr)] =0"
   ]
  },
  {
   "cell_type": "code",
   "execution_count": 161,
   "metadata": {},
   "outputs": [],
   "source": [
    "pt1 = [H//2,5,dmap[H//2,5]]\n",
    "pt2 = [H//2,W-5,dmap[H//2,W-5]]\n",
    "f = 170*pt1[2]/(1.5)"
   ]
  },
  {
   "cell_type": "code",
   "execution_count": 177,
   "metadata": {},
   "outputs": [],
   "source": [
    "pt2[2]\n",
    "\n",
    "dpcl = create_point_cloud_from_depth_image(source_depth,intr)\n",
    "write_point_cloud()"
   ]
  },
  {
   "cell_type": "code",
   "execution_count": 163,
   "metadata": {},
   "outputs": [],
   "source": [
    "# K = K_out=K_out.squeeze()\n",
    "H,W = dmap.shape\n",
    "\n",
    "# (width: int, height: int, fx: float, fy: float, cx: float, cy: float)\n",
    "fx,fy,cx,cy = W,W,W//2,H//2\n",
    "# width,height,_ = w1.shape\n",
    "intr = PinholeCameraIntrinsic(W,H,fx,fy,cx,cy)\n",
    "source_color = Image(128*np.ones([H,W,3],dtype=np.int8))\n",
    "source_depth = Image(dmap.squeeze())\n",
    "\n",
    "source_rgbd_image = create_rgbd_image_from_color_and_depth(source_color, source_depth)\n",
    "source_pcd = create_point_cloud_from_rgbd_image(source_rgbd_image, intr)\n",
    "#\n",
    "# write_point_cloud(self.op_dir + '/depth_map_cloud' + postfix + \".ply\", source_pcd)"
   ]
  },
  {
   "cell_type": "code",
   "execution_count": 164,
   "metadata": {},
   "outputs": [
    {
     "data": {
      "text/plain": [
       "True"
      ]
     },
     "execution_count": 164,
     "metadata": {},
     "output_type": "execute_result"
    }
   ],
   "source": [
    "write_point_cloud(work_dir + '/depth_map_cloud' + suffix + \".ply\", source_pcd)"
   ]
  },
  {
   "cell_type": "code",
   "execution_count": 165,
   "metadata": {},
   "outputs": [],
   "source": [
    "pts = np.asarray(source_pcd.points)"
   ]
  },
  {
   "cell_type": "code",
   "execution_count": 166,
   "metadata": {},
   "outputs": [
    {
     "name": "stdout",
     "output_type": "stream",
     "text": [
      "('x min max:', -0.8613700918981675, 0.6386299081018326)\n",
      "('z min max', 1.009640295467927, 3.333673941878841)\n"
     ]
    },
    {
     "data": {
      "text/plain": [
       "True"
      ]
     },
     "execution_count": 166,
     "metadata": {},
     "output_type": "execute_result"
    }
   ],
   "source": [
    "pts.shape\n",
    "scale = abs(np.max(pts[:,0]) - np.min(pts[:,0])) / 1.5\n",
    "pts = pts/scale\n",
    "print(\"x min max:\",np.min(pts[:,0]),np.max(pts[:,0]) )\n",
    "print(\"z min max\",np.min(pts[:,2]),np.max(pts[:,2]) )\n",
    "pcd = PointCloud()\n",
    "pcd.points = Vector3dVector(pts)\n",
    "write_point_cloud(work_dir + 'depth_map_cloud_' + suffix + \".ply\", pcd)"
   ]
  },
  {
   "cell_type": "code",
   "execution_count": 170,
   "metadata": {},
   "outputs": [
    {
     "name": "stdout",
     "output_type": "stream",
     "text": [
      "('new max : ', 1892)\n",
      "('new max : ', 2015)\n",
      "('new max : ', 2565)\n",
      "('new max : ', 6317)\n",
      "('new max : ', 7016)\n",
      "('new max : ', 7073)\n",
      "('new max : ', 7109)\n",
      "('new max : ', 7188)\n",
      "('max inliers:', 7188)\n",
      "('new refitted inliers: ', 7188)\n",
      "('new max : ', 951)\n",
      "('new max : ', 2644)\n",
      "('new max : ', 3759)\n",
      "('new max : ', 3784)\n",
      "('new max : ', 3918)\n",
      "('new max : ', 3927)\n",
      "('new max : ', 3937)\n",
      "('new max : ', 3956)\n",
      "('max inliers:', 3956)\n",
      "('new refitted inliers: ', 3956)\n",
      "('new max : ', 1008)\n",
      "('new max : ', 1019)\n",
      "('new max : ', 1074)\n",
      "('new max : ', 1324)\n",
      "('new max : ', 1328)\n",
      "('new max : ', 1332)\n",
      "('new max : ', 1341)\n",
      "('new max : ', 1351)\n",
      "('new max : ', 1353)\n",
      "('new max : ', 1354)\n",
      "('max inliers:', 1354)\n",
      "('new refitted inliers: ', 1354)\n"
     ]
    },
    {
     "data": {
      "text/plain": [
       "True"
      ]
     },
     "execution_count": 170,
     "metadata": {},
     "output_type": "execute_result"
    }
   ],
   "source": [
    "orientations = []\n",
    "def gen_plane(pts):\n",
    "#     pdb.set_trace()\n",
    "    A = np.ones_like(pts)\n",
    "#     pdb.set_trace()\n",
    "    A[:,0:2] = pts[:,0:2]\n",
    "    B = pts[:,2]\n",
    "#     b = np.matrix(B).T\n",
    "#     A = np.matrix(A)\n",
    "#     if(A.shape[0]==3):\n",
    "    fit = np.linalg.solve(A,B)\n",
    "#     else:\n",
    "#         fit = np.linalg.lstsq(A,B)[0]\n",
    "#     fit = (A.T * A).I * A.T * B\n",
    "    return fit\n",
    "\n",
    "def get_plane_inliers(pts,plane,thresh=0.1):\n",
    "    plane = plane.reshape(3,1)\n",
    "    A = np.ones_like(pts)\n",
    "    A[:,0:2] = pts[:,0:2]\n",
    "    B = pts[:,2]\n",
    "#     pdb.set_trace()\n",
    "    dts = abs(B.reshape(-1,1) - A.dot(plane))/ np.sqrt(plane[0]**2 + plane[1]**2 +1)\n",
    "    \n",
    "#     errors = B.reshape(-1,1) - A.dot(plane)\n",
    "    return np.where(dts.squeeze() < thresh)[0]\n",
    "\n",
    "import pdb\n",
    "plane_count = 3\n",
    "planes = []\n",
    "cur_pt_set = pts.copy()\n",
    "\n",
    "ransac_iters = 1000\n",
    "for i in range(plane_count):\n",
    "    if(cur_pt_set.shape[0]<4):\n",
    "        print(\"not enough points, breaking \\n\")\n",
    "        break\n",
    "    best,best_inliers,max_inliers  = None,None,0\n",
    "    for j in range(ransac_iters):\n",
    "        rng = cur_pt_set.shape[0]\n",
    "        \n",
    "        inds = random.sample(range(0, rng), 3)\n",
    "        try:\n",
    "            plane = gen_plane(cur_pt_set[inds])\n",
    "        except:\n",
    "            continue\n",
    "        inliers  = get_plane_inliers(cur_pt_set,plane)\n",
    "        if(len(inliers)>max_inliers):\n",
    "        \n",
    "            best = plane\n",
    "            max_inliers = len(inliers)\n",
    "            print(\"new max : \",max_inliers)\n",
    "            best_inliers = inliers\n",
    "            \n",
    "    ##end of ransac loop\n",
    "    print(\"max inliers:\",max_inliers)\n",
    "#     pdb.set_trace()\n",
    "#     svd_plane = gen_plane(cur_pt_set[best_inliers])\n",
    "    svd_plane = best\n",
    "    \n",
    "#     inliers = get_plane_inliers(cur_pt_set,svd_plane)\n",
    "    print(\"new refitted inliers: \",len(best_inliers))\n",
    "    wall_pts = cur_pt_set[best_inliers]\n",
    "    if(np.median(wall_pts[:,0]) > 0):\n",
    "        orientations.append('right')\n",
    "    else:\n",
    "        orientations.append('left')\n",
    "            \n",
    "    pcd = PointCloud()\n",
    "    pcd.points = Vector3dVector(wall_pts)\n",
    "    write_point_cloud(work_dir + 'wall_' + str(i) + \".ply\", pcd)\n",
    "    cur_pt_set =np.delete(cur_pt_set,best_inliers,axis=0)\n",
    "#     pdb.set_trace()\n",
    "#     cur_pt_set.remove(inliers)\n",
    "    planes.append(svd_plane)\n",
    "\n",
    "#####\n",
    "# 3 planes, find two with normals perpendicular to z (dot product 0)\n",
    "\n",
    "human_pts = cur_pt_set ##\n",
    "pcd = PointCloud()\n",
    "pcd.points = Vector3dVector(human_pts)\n",
    "write_point_cloud(work_dir + 'human_' + suffix + \".ply\", pcd)\n",
    "        \n",
    "    \n",
    "    "
   ]
  },
  {
   "cell_type": "code",
   "execution_count": 171,
   "metadata": {},
   "outputs": [
    {
     "name": "stdout",
     "output_type": "stream",
     "text": [
      "0.9967619191462914\n",
      "0.9919064948341886\n",
      "0.0677269986916243\n"
     ]
    }
   ],
   "source": [
    "planes\n",
    "norms = -1*np.ones_like(planes)\n",
    "for i in range(norms.shape[0]):\n",
    "    norms[i,0:2] = planes[i][0:2]\n",
    "    norms[i,:] = norms[i,:]/np.linalg.norm(norms[i,:])\n",
    "# norms[:,0:2] = planes[:,0:2]\n",
    "x = np.array([1, 0, 0])\n",
    "dots = []\n",
    "for i in range(norms.shape[0]):\n",
    "    print(abs(np.dot(norms[i],x)))\n",
    "    dots.append(abs(np.dot(norms[i],x)))\n",
    "sorted_planes = np.argsort(dots)"
   ]
  },
  {
   "cell_type": "code",
   "execution_count": 173,
   "metadata": {},
   "outputs": [
    {
     "data": {
      "text/plain": [
       "[array([129.44061126, -16.53903724,  83.23743675]),\n",
       " array([112.7478677 ,   9.04030391, -64.94310248])]"
      ]
     },
     "execution_count": 173,
     "metadata": {},
     "output_type": "execute_result"
    }
   ],
   "source": [
    "sorted_planes\n",
    "walls = []\n",
    "wall_ors =[]\n",
    "for i in sorted_planes[1:]:\n",
    "    walls.append(planes[i])\n",
    "    wall_ors.append(orientations[i])\n",
    "# walls = planes[sorted_planes[1:]]\n",
    "walls"
   ]
  },
  {
   "cell_type": "code",
   "execution_count": 175,
   "metadata": {},
   "outputs": [
    {
     "data": {
      "text/plain": [
       "array([2, 1, 0])"
      ]
     },
     "execution_count": 175,
     "metadata": {},
     "output_type": "execute_result"
    }
   ],
   "source": [
    "wall_ors\n",
    "sorted_planes"
   ]
  },
  {
   "cell_type": "code",
   "execution_count": 176,
   "metadata": {},
   "outputs": [
    {
     "name": "stdout",
     "output_type": "stream",
     "text": [
      "('median wall to human dist:', 0.41325890581188146)\n",
      "('median wall to human dist:', 0.7919740971024922)\n",
      "['right', 0.7919740971024922]\n"
     ]
    }
   ],
   "source": [
    "# tp = np.array([0,0,planes[0][2]])\n",
    "max_clear = 0\n",
    "for i in range(2):\n",
    "    pts=human_pts\n",
    "    pl = walls[i]\n",
    "    A = np.ones_like(pts)\n",
    "    A[:,0:2] = pts[:,0:2]\n",
    "    B = pts[:,2]\n",
    "    #     pdb.set_trace()\n",
    "    dts = abs(B.reshape(-1,1) - A.dot(pl))/ np.sqrt(pl[0]**2 + pl[1]**2 +1)\n",
    "    med_dts = np.median(dts)\n",
    "    print(\"median wall to human dist:\", np.median(dts))\n",
    "    if(max_clear<med_dts):\n",
    "        answer = [wall_ors[i], med_dts]\n",
    "        max_clear = med_dts\n",
    "print(answer)"
   ]
  },
  {
   "cell_type": "code",
   "execution_count": 120,
   "metadata": {},
   "outputs": [
    {
     "name": "stdout",
     "output_type": "stream",
     "text": [
      "(1, 1)\n",
      "0.7250789547565589\n"
     ]
    }
   ],
   "source": [
    "tp = np.array([0,0,planes[0][2]])\n",
    "pl = planes[1]\n",
    "A = np.ones_like(tp)\n",
    "A[0:2] = tp[0:2]\n",
    "B = tp[2]\n",
    "#     pdb.set_trace()\n",
    "dts = abs(B.reshape(-1,1) - A.dot(pl))/ np.sqrt(pl[0]**2 + pl[1]**2 +1)\n",
    "print(dts.shape)\n",
    "print(np.median(dts))"
   ]
  },
  {
   "cell_type": "code",
   "execution_count": 65,
   "metadata": {},
   "outputs": [],
   "source": [
    "N_POINTS = 10\n",
    "TARGET_X_SLOPE = 2\n",
    "TARGET_y_SLOPE = 3\n",
    "TARGET_OFFSET  = 5\n",
    "EXTENTS = 5\n",
    "NOISE = 1\n",
    "\n",
    "# create random data\n",
    "xs = [np.random.uniform(2*EXTENTS)-EXTENTS for i in range(N_POINTS)]\n",
    "ys = [np.random.uniform(2*EXTENTS)-EXTENTS for i in range(N_POINTS)]\n",
    "zs = []\n",
    "for i in range(N_POINTS):\n",
    "    zs.append(xs[i]*TARGET_X_SLOPE + \\\n",
    "              ys[i]*TARGET_y_SLOPE + \\\n",
    "              TARGET_OFFSET + np.random.normal(scale=NOISE))\n",
    "\n",
    "# plot raw data\n",
    "# plt.figure()\n",
    "# ax = plt.subplot(111, projection='3d')\n",
    "# ax.scatter(xs, ys, zs, color='b')\n",
    "\n",
    "# do fit\n",
    "tmp_A = []\n",
    "tmp_b = []\n",
    "for i in range(len(xs)):\n",
    "    tmp_A.append([xs[i], ys[i], 1])\n",
    "    tmp_b.append(zs[i])\n",
    "b = np.matrix(tmp_b).T\n",
    "A = np.matrix(tmp_A)\n",
    "fit = (A.T * A).I * A.T * b\n",
    "errors = b - A * fit\n",
    "residual = np.linalg.norm(errors)"
   ]
  },
  {
   "cell_type": "code",
   "execution_count": 70,
   "metadata": {},
   "outputs": [
    {
     "data": {
      "text/plain": [
       "matrix([[2.2155031 ],\n",
       "        [3.16052372],\n",
       "        [4.72444374]])"
      ]
     },
     "execution_count": 70,
     "metadata": {},
     "output_type": "execute_result"
    }
   ],
   "source": [
    "fit"
   ]
  },
  {
   "cell_type": "code",
   "execution_count": 73,
   "metadata": {},
   "outputs": [
    {
     "ename": "ValueError",
     "evalue": "shapes (10,3) and (1,3) not aligned: 3 (dim 1) != 1 (dim 0)",
     "output_type": "error",
     "traceback": [
      "\u001b[0;31m---------------------------------------------------------------------------\u001b[0m",
      "\u001b[0;31mValueError\u001b[0m                                Traceback (most recent call last)",
      "\u001b[0;32m<ipython-input-73-159c17e5c11b>\u001b[0m in \u001b[0;36m<module>\u001b[0;34m()\u001b[0m\n\u001b[0;32m----> 1\u001b[0;31m \u001b[0mA\u001b[0m\u001b[0;34m*\u001b[0m\u001b[0mfit\u001b[0m\u001b[0;34m.\u001b[0m\u001b[0msqueeze\u001b[0m\u001b[0;34m(\u001b[0m\u001b[0;34m)\u001b[0m\u001b[0;34m\u001b[0m\u001b[0m\n\u001b[0m",
      "\u001b[0;32m/home/shubham/virtualenvs/pymvsnet/local/lib/python2.7/site-packages/numpy/matrixlib/defmatrix.pyc\u001b[0m in \u001b[0;36m__mul__\u001b[0;34m(self, other)\u001b[0m\n\u001b[1;32m    213\u001b[0m         \u001b[0;32mif\u001b[0m \u001b[0misinstance\u001b[0m\u001b[0;34m(\u001b[0m\u001b[0mother\u001b[0m\u001b[0;34m,\u001b[0m \u001b[0;34m(\u001b[0m\u001b[0mN\u001b[0m\u001b[0;34m.\u001b[0m\u001b[0mndarray\u001b[0m\u001b[0;34m,\u001b[0m \u001b[0mlist\u001b[0m\u001b[0;34m,\u001b[0m \u001b[0mtuple\u001b[0m\u001b[0;34m)\u001b[0m\u001b[0;34m)\u001b[0m \u001b[0;34m:\u001b[0m\u001b[0;34m\u001b[0m\u001b[0m\n\u001b[1;32m    214\u001b[0m             \u001b[0;31m# This promotes 1-D vectors to row vectors\u001b[0m\u001b[0;34m\u001b[0m\u001b[0;34m\u001b[0m\u001b[0m\n\u001b[0;32m--> 215\u001b[0;31m             \u001b[0;32mreturn\u001b[0m \u001b[0mN\u001b[0m\u001b[0;34m.\u001b[0m\u001b[0mdot\u001b[0m\u001b[0;34m(\u001b[0m\u001b[0mself\u001b[0m\u001b[0;34m,\u001b[0m \u001b[0masmatrix\u001b[0m\u001b[0;34m(\u001b[0m\u001b[0mother\u001b[0m\u001b[0;34m)\u001b[0m\u001b[0;34m)\u001b[0m\u001b[0;34m\u001b[0m\u001b[0m\n\u001b[0m\u001b[1;32m    216\u001b[0m         \u001b[0;32mif\u001b[0m \u001b[0misscalar\u001b[0m\u001b[0;34m(\u001b[0m\u001b[0mother\u001b[0m\u001b[0;34m)\u001b[0m \u001b[0;32mor\u001b[0m \u001b[0;32mnot\u001b[0m \u001b[0mhasattr\u001b[0m\u001b[0;34m(\u001b[0m\u001b[0mother\u001b[0m\u001b[0;34m,\u001b[0m \u001b[0;34m'__rmul__'\u001b[0m\u001b[0;34m)\u001b[0m \u001b[0;34m:\u001b[0m\u001b[0;34m\u001b[0m\u001b[0m\n\u001b[1;32m    217\u001b[0m             \u001b[0;32mreturn\u001b[0m \u001b[0mN\u001b[0m\u001b[0;34m.\u001b[0m\u001b[0mdot\u001b[0m\u001b[0;34m(\u001b[0m\u001b[0mself\u001b[0m\u001b[0;34m,\u001b[0m \u001b[0mother\u001b[0m\u001b[0;34m)\u001b[0m\u001b[0;34m\u001b[0m\u001b[0m\n",
      "\u001b[0;31mValueError\u001b[0m: shapes (10,3) and (1,3) not aligned: 3 (dim 1) != 1 (dim 0)"
     ]
    }
   ],
   "source": [
    "A*fit.squeeze()"
   ]
  },
  {
   "cell_type": "code",
   "execution_count": 74,
   "metadata": {},
   "outputs": [
    {
     "data": {
      "text/plain": [
       "(10, 1)"
      ]
     },
     "execution_count": 74,
     "metadata": {},
     "output_type": "execute_result"
    }
   ],
   "source": [
    "errors.shape"
   ]
  },
  {
   "cell_type": "code",
   "execution_count": null,
   "metadata": {},
   "outputs": [],
   "source": []
  }
 ],
 "metadata": {
  "kernelspec": {
   "display_name": "Python 2",
   "language": "python",
   "name": "python2"
  },
  "language_info": {
   "codemirror_mode": {
    "name": "ipython",
    "version": 2
   },
   "file_extension": ".py",
   "mimetype": "text/x-python",
   "name": "python",
   "nbconvert_exporter": "python",
   "pygments_lexer": "ipython2",
   "version": "2.7.12"
  }
 },
 "nbformat": 4,
 "nbformat_minor": 2
}
